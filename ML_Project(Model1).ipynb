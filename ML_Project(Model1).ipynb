{
  "nbformat": 4,
  "nbformat_minor": 0,
  "metadata": {
    "colab": {
      "name": "ML-Project(Model1).ipynb",
      "provenance": [],
      "authorship_tag": "ABX9TyN3yFElhXXIqqEHvQaz1xAJ",
      "include_colab_link": true
    },
    "kernelspec": {
      "name": "python3",
      "display_name": "Python 3"
    }
  },
  "cells": [
    {
      "cell_type": "markdown",
      "metadata": {
        "id": "view-in-github",
        "colab_type": "text"
      },
      "source": [
        "<a href=\"https://colab.research.google.com/github/jeeda4/ML_Project/blob/master/ML_Project(Model1).ipynb\" target=\"_parent\"><img src=\"https://colab.research.google.com/assets/colab-badge.svg\" alt=\"Open In Colab\"/></a>"
      ]
    },
    {
      "cell_type": "markdown",
      "metadata": {
        "id": "N97rpi6iGVfO",
        "colab_type": "text"
      },
      "source": [
        "Machine Learning Project\n",
        "\n",
        "\n",
        "First Model: XGBoost \n",
        "\n",
        "Spring 2020 \n",
        "\n"
      ]
    },
    {
      "cell_type": "code",
      "metadata": {
        "id": "4Uy_YIB_GT38",
        "colab_type": "code",
        "colab": {}
      },
      "source": [
        "#setting up \n",
        "import pandas as pd\n",
        "import numpy as np\n",
        "from sklearn import datasets\n",
        "import seaborn as sns\n",
        "from sklearn.feature_selection import RFE\n",
        "from sklearn.model_selection import train_test_split\n",
        "from sklearn.model_selection import cross_val_score\n",
        "from sklearn.model_selection import KFold\n",
        "from sklearn.pipeline import Pipeline\n",
        "from sklearn.preprocessing import StandardScaler\n",
        "import matplotlib.pyplot as plt\n",
        "import xgboost as xgb\n",
        "from sklearn.linear_model import LinearRegression\n",
        "from sklearn.linear_model import Lasso\n",
        "from sklearn.linear_model import ElasticNet\n",
        "from sklearn.linear_model import Ridge\n",
        "from sklearn.linear_model import BayesianRidge\n",
        "from sklearn.tree import DecisionTreeRegressor\n",
        "from sklearn.neighbors import KNeighborsRegressor\n",
        "from sklearn.ensemble import GradientBoostingRegressor\n",
        "from sklearn import svm"
      ],
      "execution_count": 0,
      "outputs": []
    },
    {
      "cell_type": "code",
      "metadata": {
        "id": "D7FyOcyJSZ3x",
        "colab_type": "code",
        "colab": {}
      },
      "source": [
        "#Importing the data\n",
        "InstagramDF = pd.read_csv (\"https://raw.githubusercontent.com/GuiZamorano/Instagram_Like_Predictor/master/InstagramDatasetRegression.csv\", encoding='utf-8-sig')"
      ],
      "execution_count": 0,
      "outputs": []
    },
    {
      "cell_type": "code",
      "metadata": {
        "id": "S_1XJfmQSupH",
        "colab_type": "code",
        "colab": {}
      },
      "source": [
        "#since predicting number of likes/mean \n",
        "X = InstagramDF\n",
        "Y = X['number_of_likes/mean'].values\n",
        "X = X.drop('number_of_likes/mean', axis = 1).values"
      ],
      "execution_count": 0,
      "outputs": []
    },
    {
      "cell_type": "code",
      "metadata": {
        "id": "Wmtbe3TfS5Ui",
        "colab_type": "code",
        "colab": {}
      },
      "source": [
        "#since predicting number of likes/mean \n",
        "X = InstagramDF\n",
        "Y = X['number_of_likes/mean'].values\n",
        "X = X.drop('number_of_likes/mean', axis = 1).values"
      ],
      "execution_count": 0,
      "outputs": []
    },
    {
      "cell_type": "code",
      "metadata": {
        "id": "BHjmC_BdS6fX",
        "colab_type": "code",
        "colab": {}
      },
      "source": [
        "#splitting the data into train and test data \n",
        "X_train, X_test, Y_train, Y_test = train_test_split (X, Y, test_size = 0.20, random_state=42)"
      ],
      "execution_count": 0,
      "outputs": []
    },
    {
      "cell_type": "code",
      "metadata": {
        "id": "blBN6myIS_fb",
        "colab_type": "code",
        "colab": {
          "base_uri": "https://localhost:8080/",
          "height": 697
        },
        "outputId": "e45253d1-eee6-4ad7-e2c2-f285ac882ce3"
      },
      "source": [
        "import warnings\n",
        "warnings.filterwarnings('ignore')\n",
        "all_regressors = []\n",
        "all_regressors.append(('LR', Pipeline([('Scaler', StandardScaler()),('LR',LinearRegression())])))\n",
        "all_regressors.append(('LASSO', Pipeline([('Scaler', StandardScaler()),('LASSO', Lasso())])))\n",
        "all_regressors.append(('EN', Pipeline([('Scaler', StandardScaler()),('EN', ElasticNet())])))\n",
        "all_regressors.append(('Ridge', Pipeline([('Scaler', StandardScaler()),('RIDGE', Ridge())])))\n",
        "all_regressors.append(('BYR', Pipeline([('Scaler', StandardScaler()),('BYR', BayesianRidge())])))\n",
        "all_regressors.append(('KNN', Pipeline([('Scaler', StandardScaler()),('KNN', KNeighborsRegressor())])))\n",
        "all_regressors.append(('CART', Pipeline([('Scaler', StandardScaler()),('CART', DecisionTreeRegressor())])))\n",
        "all_regressors.append(('SVM', Pipeline([('Scaler', StandardScaler()),('SVM', svm.SVR())])))\n",
        "all_regressors.append(('XGB', Pipeline([('Scaler', StandardScaler()),('XGB', xgb.XGBRegressor())])))\n",
        "\n",
        "train_error = []\n",
        "test_error = []\n",
        "train_error2 = []\n",
        "test_error2 = []\n",
        "for name, model in all_regressors:\n",
        "    kfold = KFold(n_splits=10, random_state=21)\n",
        "    cv_results_train = cross_val_score(model, X_train, Y_train, cv=kfold, scoring='neg_mean_squared_error')\n",
        "    cv_results_test = cross_val_score(model, X_test, Y_test, cv=kfold, scoring='neg_mean_squared_error')\n",
        "    cv_results_train2 = cross_val_score(model, X_train, Y_train, cv=kfold, scoring='r2')\n",
        "    cv_results_test2 = cross_val_score(model, X_test, Y_test, cv=kfold, scoring='r2')\n",
        "    train_error.append(cv_results_train.mean())\n",
        "    test_error.append(cv_results_test.mean())\n",
        "    train_error2.append(cv_results_train2.mean())\n",
        "    test_error2.append(cv_results_test2.mean())"
      ],
      "execution_count": 86,
      "outputs": [
        {
          "output_type": "stream",
          "text": [
            "[23:25:59] WARNING: /workspace/src/objective/regression_obj.cu:152: reg:linear is now deprecated in favor of reg:squarederror.\n",
            "[23:26:01] WARNING: /workspace/src/objective/regression_obj.cu:152: reg:linear is now deprecated in favor of reg:squarederror.\n",
            "[23:26:03] WARNING: /workspace/src/objective/regression_obj.cu:152: reg:linear is now deprecated in favor of reg:squarederror.\n",
            "[23:26:05] WARNING: /workspace/src/objective/regression_obj.cu:152: reg:linear is now deprecated in favor of reg:squarederror.\n",
            "[23:26:06] WARNING: /workspace/src/objective/regression_obj.cu:152: reg:linear is now deprecated in favor of reg:squarederror.\n",
            "[23:26:08] WARNING: /workspace/src/objective/regression_obj.cu:152: reg:linear is now deprecated in favor of reg:squarederror.\n",
            "[23:26:10] WARNING: /workspace/src/objective/regression_obj.cu:152: reg:linear is now deprecated in favor of reg:squarederror.\n",
            "[23:26:12] WARNING: /workspace/src/objective/regression_obj.cu:152: reg:linear is now deprecated in favor of reg:squarederror.\n",
            "[23:26:14] WARNING: /workspace/src/objective/regression_obj.cu:152: reg:linear is now deprecated in favor of reg:squarederror.\n",
            "[23:26:16] WARNING: /workspace/src/objective/regression_obj.cu:152: reg:linear is now deprecated in favor of reg:squarederror.\n",
            "[23:26:18] WARNING: /workspace/src/objective/regression_obj.cu:152: reg:linear is now deprecated in favor of reg:squarederror.\n",
            "[23:26:18] WARNING: /workspace/src/objective/regression_obj.cu:152: reg:linear is now deprecated in favor of reg:squarederror.\n",
            "[23:26:19] WARNING: /workspace/src/objective/regression_obj.cu:152: reg:linear is now deprecated in favor of reg:squarederror.\n",
            "[23:26:19] WARNING: /workspace/src/objective/regression_obj.cu:152: reg:linear is now deprecated in favor of reg:squarederror.\n",
            "[23:26:19] WARNING: /workspace/src/objective/regression_obj.cu:152: reg:linear is now deprecated in favor of reg:squarederror.\n",
            "[23:26:20] WARNING: /workspace/src/objective/regression_obj.cu:152: reg:linear is now deprecated in favor of reg:squarederror.\n",
            "[23:26:20] WARNING: /workspace/src/objective/regression_obj.cu:152: reg:linear is now deprecated in favor of reg:squarederror.\n",
            "[23:26:21] WARNING: /workspace/src/objective/regression_obj.cu:152: reg:linear is now deprecated in favor of reg:squarederror.\n",
            "[23:26:21] WARNING: /workspace/src/objective/regression_obj.cu:152: reg:linear is now deprecated in favor of reg:squarederror.\n",
            "[23:26:22] WARNING: /workspace/src/objective/regression_obj.cu:152: reg:linear is now deprecated in favor of reg:squarederror.\n",
            "[23:26:22] WARNING: /workspace/src/objective/regression_obj.cu:152: reg:linear is now deprecated in favor of reg:squarederror.\n",
            "[23:26:24] WARNING: /workspace/src/objective/regression_obj.cu:152: reg:linear is now deprecated in favor of reg:squarederror.\n",
            "[23:26:26] WARNING: /workspace/src/objective/regression_obj.cu:152: reg:linear is now deprecated in favor of reg:squarederror.\n",
            "[23:26:28] WARNING: /workspace/src/objective/regression_obj.cu:152: reg:linear is now deprecated in favor of reg:squarederror.\n",
            "[23:26:30] WARNING: /workspace/src/objective/regression_obj.cu:152: reg:linear is now deprecated in favor of reg:squarederror.\n",
            "[23:26:32] WARNING: /workspace/src/objective/regression_obj.cu:152: reg:linear is now deprecated in favor of reg:squarederror.\n",
            "[23:26:33] WARNING: /workspace/src/objective/regression_obj.cu:152: reg:linear is now deprecated in favor of reg:squarederror.\n",
            "[23:26:35] WARNING: /workspace/src/objective/regression_obj.cu:152: reg:linear is now deprecated in favor of reg:squarederror.\n",
            "[23:26:37] WARNING: /workspace/src/objective/regression_obj.cu:152: reg:linear is now deprecated in favor of reg:squarederror.\n",
            "[23:26:39] WARNING: /workspace/src/objective/regression_obj.cu:152: reg:linear is now deprecated in favor of reg:squarederror.\n",
            "[23:26:41] WARNING: /workspace/src/objective/regression_obj.cu:152: reg:linear is now deprecated in favor of reg:squarederror.\n",
            "[23:26:41] WARNING: /workspace/src/objective/regression_obj.cu:152: reg:linear is now deprecated in favor of reg:squarederror.\n",
            "[23:26:42] WARNING: /workspace/src/objective/regression_obj.cu:152: reg:linear is now deprecated in favor of reg:squarederror.\n",
            "[23:26:42] WARNING: /workspace/src/objective/regression_obj.cu:152: reg:linear is now deprecated in favor of reg:squarederror.\n",
            "[23:26:43] WARNING: /workspace/src/objective/regression_obj.cu:152: reg:linear is now deprecated in favor of reg:squarederror.\n",
            "[23:26:43] WARNING: /workspace/src/objective/regression_obj.cu:152: reg:linear is now deprecated in favor of reg:squarederror.\n",
            "[23:26:44] WARNING: /workspace/src/objective/regression_obj.cu:152: reg:linear is now deprecated in favor of reg:squarederror.\n",
            "[23:26:44] WARNING: /workspace/src/objective/regression_obj.cu:152: reg:linear is now deprecated in favor of reg:squarederror.\n",
            "[23:26:45] WARNING: /workspace/src/objective/regression_obj.cu:152: reg:linear is now deprecated in favor of reg:squarederror.\n",
            "[23:26:45] WARNING: /workspace/src/objective/regression_obj.cu:152: reg:linear is now deprecated in favor of reg:squarederror.\n"
          ],
          "name": "stdout"
        }
      ]
    },
    {
      "cell_type": "code",
      "metadata": {
        "id": "hitPWXFuWSd0",
        "colab_type": "code",
        "colab": {
          "base_uri": "https://localhost:8080/",
          "height": 328
        },
        "outputId": "3212d7ae-bbb3-4bd6-f068-80f550ad6d82"
      },
      "source": [
        "col={'Train Error MSE':train_error,'Test Error MSE':test_error, 'Train Error R^2':train_error2,'Test Error R^2':test_error2}\n",
        "models=['Linear Regression', 'Lasso Regression', 'ElasticNet', 'Ridge Regression', 'Bayesian Regression','KNN','Decision Tree','SVM', 'XGBoost']\n",
        "df=pd.DataFrame(data=col,index=models)\n",
        "df"
      ],
      "execution_count": 87,
      "outputs": [
        {
          "output_type": "execute_result",
          "data": {
            "text/html": [
              "<div>\n",
              "<style scoped>\n",
              "    .dataframe tbody tr th:only-of-type {\n",
              "        vertical-align: middle;\n",
              "    }\n",
              "\n",
              "    .dataframe tbody tr th {\n",
              "        vertical-align: top;\n",
              "    }\n",
              "\n",
              "    .dataframe thead th {\n",
              "        text-align: right;\n",
              "    }\n",
              "</style>\n",
              "<table border=\"1\" class=\"dataframe\">\n",
              "  <thead>\n",
              "    <tr style=\"text-align: right;\">\n",
              "      <th></th>\n",
              "      <th>Train Error MSE</th>\n",
              "      <th>Test Error MSE</th>\n",
              "      <th>Train Error R^2</th>\n",
              "      <th>Test Error R^2</th>\n",
              "    </tr>\n",
              "  </thead>\n",
              "  <tbody>\n",
              "    <tr>\n",
              "      <th>Linear Regression</th>\n",
              "      <td>-0.241637</td>\n",
              "      <td>-0.265845</td>\n",
              "      <td>0.043391</td>\n",
              "      <td>0.024857</td>\n",
              "    </tr>\n",
              "    <tr>\n",
              "      <th>Lasso Regression</th>\n",
              "      <td>-0.252769</td>\n",
              "      <td>-0.273798</td>\n",
              "      <td>-0.000751</td>\n",
              "      <td>-0.003683</td>\n",
              "    </tr>\n",
              "    <tr>\n",
              "      <th>ElasticNet</th>\n",
              "      <td>-0.252769</td>\n",
              "      <td>-0.273798</td>\n",
              "      <td>-0.000751</td>\n",
              "      <td>-0.003683</td>\n",
              "    </tr>\n",
              "    <tr>\n",
              "      <th>Ridge Regression</th>\n",
              "      <td>-0.241637</td>\n",
              "      <td>-0.265810</td>\n",
              "      <td>0.043390</td>\n",
              "      <td>0.024992</td>\n",
              "    </tr>\n",
              "    <tr>\n",
              "      <th>Bayesian Regression</th>\n",
              "      <td>-0.241568</td>\n",
              "      <td>-0.264739</td>\n",
              "      <td>0.043662</td>\n",
              "      <td>0.029213</td>\n",
              "    </tr>\n",
              "    <tr>\n",
              "      <th>KNN</th>\n",
              "      <td>-0.285912</td>\n",
              "      <td>-0.308872</td>\n",
              "      <td>-0.132389</td>\n",
              "      <td>-0.139583</td>\n",
              "    </tr>\n",
              "    <tr>\n",
              "      <th>Decision Tree</th>\n",
              "      <td>-0.518958</td>\n",
              "      <td>-0.539307</td>\n",
              "      <td>-1.022629</td>\n",
              "      <td>-1.008294</td>\n",
              "    </tr>\n",
              "    <tr>\n",
              "      <th>SVM</th>\n",
              "      <td>-0.251827</td>\n",
              "      <td>-0.275926</td>\n",
              "      <td>0.003095</td>\n",
              "      <td>-0.011792</td>\n",
              "    </tr>\n",
              "    <tr>\n",
              "      <th>XGBoost</th>\n",
              "      <td>-0.240816</td>\n",
              "      <td>-0.267621</td>\n",
              "      <td>0.046508</td>\n",
              "      <td>0.017558</td>\n",
              "    </tr>\n",
              "  </tbody>\n",
              "</table>\n",
              "</div>"
            ],
            "text/plain": [
              "                     Train Error MSE  ...  Test Error R^2\n",
              "Linear Regression          -0.241637  ...        0.024857\n",
              "Lasso Regression           -0.252769  ...       -0.003683\n",
              "ElasticNet                 -0.252769  ...       -0.003683\n",
              "Ridge Regression           -0.241637  ...        0.024992\n",
              "Bayesian Regression        -0.241568  ...        0.029213\n",
              "KNN                        -0.285912  ...       -0.139583\n",
              "Decision Tree              -0.518958  ...       -1.008294\n",
              "SVM                        -0.251827  ...       -0.011792\n",
              "XGBoost                    -0.240816  ...        0.017558\n",
              "\n",
              "[9 rows x 4 columns]"
            ]
          },
          "metadata": {
            "tags": []
          },
          "execution_count": 87
        }
      ]
    },
    {
      "cell_type": "code",
      "metadata": {
        "id": "NlASjwepWaXs",
        "colab_type": "code",
        "colab": {}
      },
      "source": [
        "from sklearn.model_selection import cross_validate   #Additional scklearn functions\n",
        "from sklearn.model_selection import learning_curve, GridSearchCV   #Perforing grid search\n",
        "\n",
        "import matplotlib.pylab as plt\n",
        "%matplotlib inline\n",
        "from matplotlib.pylab import rcParams\n",
        "rcParams['figure.figsize'] = 12, 4"
      ],
      "execution_count": 0,
      "outputs": []
    },
    {
      "cell_type": "code",
      "metadata": {
        "id": "2_zRrNdGWz5o",
        "colab_type": "code",
        "colab": {}
      },
      "source": [
        "df = InstagramDF"
      ],
      "execution_count": 0,
      "outputs": []
    },
    {
      "cell_type": "code",
      "metadata": {
        "id": "oIm_2c8DW1MB",
        "colab_type": "code",
        "colab": {}
      },
      "source": [
        "df = df.rename(columns={'number_of_likes/mean': 'number_of_likes_over_mean', '(0, 4]': 'zero_to_four', '(4, 8]': 'four_to_eight', '(8, 12]': 'eight_to_twelve', '(12, 16]': 'twelve_to_sixteen', '(16, 20]': 'sixteen_to_twenty','(20, 24]': 'twenty_to_twentyfour'})"
      ],
      "execution_count": 0,
      "outputs": []
    },
    {
      "cell_type": "code",
      "metadata": {
        "id": "Phl5hpa4W3Ug",
        "colab_type": "code",
        "colab": {}
      },
      "source": [
        "import sklearn.metrics as metrics\n",
        "from sklearn.model_selection import GridSearchCV\n",
        "\n",
        "from numpy import loadtxt\n",
        "from xgboost import XGBClassifier\n",
        "from sklearn.model_selection import train_test_split\n",
        "from sklearn.metrics import accuracy_score\n",
        "\n",
        "target = 'number_of_likes_over_mean'\n",
        "def modelfit(alg, dtrain, predictors,useTrainCV=True, cv_folds=5, early_stopping_rounds=50):\n",
        "    \n",
        "    if useTrainCV:\n",
        "        xgb_param = alg.get_xgb_params()\n",
        "        xgtrain = xgb.DMatrix(dtrain[predictors].values, label=dtrain[target].values)\n",
        "        cvresult = xgb.cv(xgb_param, xgtrain, num_boost_round=alg.get_params()['n_estimators'], nfold=cv_folds,\n",
        "            metrics='rmse', early_stopping_rounds=early_stopping_rounds)\n",
        "        alg.set_params(n_estimators=cvresult.shape[0])\n",
        "    \n",
        "    #Fit the algorithm on the data\n",
        "    alg.fit(dtrain[predictors], dtrain['number_of_likes_over_mean'],eval_metric='rmse')\n",
        "        \n",
        "    #Predict training set:\n",
        "    dtrain_predictions = alg.predict(dtrain[predictors])\n",
        "    #dtrain_predprob = alg.predict_proba(dtrain[predictors])[:,1]\n",
        "    \n",
        "    #accuracy = accuracy_score(Y_train, dtrain_predictions)\n",
        "\n",
        "    #Print model report:\n",
        "    print(\"\\nModel Report\")\n",
        "    print(\"Mean Squared Error : %.4g\" % metrics.mean_squared_error(dtrain['number_of_likes_over_mean'].values, dtrain_predictions))\n",
        "    print(\"R^2 Score (Train): %f\" % metrics.r2_score(dtrain['number_of_likes_over_mean'], dtrain_predictions))\n",
        "\n",
        "    #print(\"Accuracy: %.2f%%\" % (accuracy * 100.0))\n",
        "\n"
      ],
      "execution_count": 0,
      "outputs": []
    },
    {
      "cell_type": "code",
      "metadata": {
        "id": "I1EWSl1tW53X",
        "colab_type": "code",
        "colab": {
          "base_uri": "https://localhost:8080/",
          "height": 85
        },
        "outputId": "09750073-484d-4751-fc97-4ccda29a5371"
      },
      "source": [
        "from sklearn.metrics import accuracy_score\n",
        "predictors = [x for x in df.columns if x not in [target]]\n",
        "xgb1 = xgb.XGBRegressor(\n",
        " learning_rate =0.1,\n",
        " n_estimators=1000,\n",
        " max_depth=5,\n",
        " min_child_weight=1,\n",
        " gamma=0,\n",
        " subsample=0.8,\n",
        " colsample_bytree=0.8,\n",
        " objective= 'reg:squarederror',\n",
        " nthread=4,\n",
        " scale_pos_weight=1,\n",
        " seed=27)\n",
        "modelfit(xgb1, df, predictors)"
      ],
      "execution_count": 92,
      "outputs": [
        {
          "output_type": "stream",
          "text": [
            "\n",
            "Model Report\n",
            "Mean Squared Error : 0.2289\n",
            "R^2 Score (Train): 0.108993\n"
          ],
          "name": "stdout"
        }
      ]
    },
    {
      "cell_type": "code",
      "metadata": {
        "id": "TcBOlQXmXl4o",
        "colab_type": "code",
        "colab": {
          "base_uri": "https://localhost:8080/",
          "height": 34
        },
        "outputId": "9165dd5d-4284-40ba-c9c3-8e10706a0773"
      },
      "source": [
        "xgb1.n_estimators"
      ],
      "execution_count": 93,
      "outputs": [
        {
          "output_type": "execute_result",
          "data": {
            "text/plain": [
              "36"
            ]
          },
          "metadata": {
            "tags": []
          },
          "execution_count": 93
        }
      ]
    },
    {
      "cell_type": "code",
      "metadata": {
        "id": "Xm804buxXn5C",
        "colab_type": "code",
        "colab": {
          "base_uri": "https://localhost:8080/",
          "height": 1000
        },
        "outputId": "e3b24300-96f6-4f28-9aba-adc77d49509b"
      },
      "source": [
        "param_test1 = {\n",
        " 'max_depth':np.arange(3,10,2),\n",
        " 'min_child_weight':np.arange(1,6,2)\n",
        "}\n",
        "gsearch1 = GridSearchCV(estimator = xgb.XGBRegressor( learning_rate =0.1, n_estimators=37, max_depth=5,\n",
        " min_child_weight=1, gamma=0, subsample=0.8, colsample_bytree=0.8,\n",
        " objective= 'reg:squarederror', nthread=4, scale_pos_weight=1, seed=27), \n",
        " param_grid = param_test1, scoring='neg_mean_squared_error',n_jobs=4,iid=False, cv=5)\n",
        "gsearch1.fit(df[predictors],df[target])\n",
        "gsearch1.cv_results_, gsearch1.best_params_, gsearch1.best_score_"
      ],
      "execution_count": 94,
      "outputs": [
        {
          "output_type": "execute_result",
          "data": {
            "text/plain": [
              "({'mean_fit_time': array([2.55238838, 2.56655231, 2.55131273, 3.94536715, 3.87385082,\n",
              "         3.86643605, 5.59115996, 5.58779035, 5.47514048, 7.71160626,\n",
              "         7.25007882, 6.31443534]),\n",
              "  'mean_score_time': array([0.05529585, 0.07775779, 0.0879107 , 0.07527204, 0.0898375 ,\n",
              "         0.07639837, 0.05121188, 0.05640655, 0.08342333, 0.09969244,\n",
              "         0.08197808, 0.04904032]),\n",
              "  'mean_test_score': array([-0.24343453, -0.24346239, -0.24342487, -0.24427776, -0.24375807,\n",
              "         -0.24391426, -0.24616936, -0.24563567, -0.24602467, -0.24896873,\n",
              "         -0.24788745, -0.24848612]),\n",
              "  'param_max_depth': masked_array(data=[3, 3, 3, 5, 5, 5, 7, 7, 7, 9, 9, 9],\n",
              "               mask=[False, False, False, False, False, False, False, False,\n",
              "                     False, False, False, False],\n",
              "         fill_value='?',\n",
              "              dtype=object),\n",
              "  'param_min_child_weight': masked_array(data=[1, 3, 5, 1, 3, 5, 1, 3, 5, 1, 3, 5],\n",
              "               mask=[False, False, False, False, False, False, False, False,\n",
              "                     False, False, False, False],\n",
              "         fill_value='?',\n",
              "              dtype=object),\n",
              "  'params': [{'max_depth': 3, 'min_child_weight': 1},\n",
              "   {'max_depth': 3, 'min_child_weight': 3},\n",
              "   {'max_depth': 3, 'min_child_weight': 5},\n",
              "   {'max_depth': 5, 'min_child_weight': 1},\n",
              "   {'max_depth': 5, 'min_child_weight': 3},\n",
              "   {'max_depth': 5, 'min_child_weight': 5},\n",
              "   {'max_depth': 7, 'min_child_weight': 1},\n",
              "   {'max_depth': 7, 'min_child_weight': 3},\n",
              "   {'max_depth': 7, 'min_child_weight': 5},\n",
              "   {'max_depth': 9, 'min_child_weight': 1},\n",
              "   {'max_depth': 9, 'min_child_weight': 3},\n",
              "   {'max_depth': 9, 'min_child_weight': 5}],\n",
              "  'rank_test_score': array([ 2,  3,  1,  6,  4,  5,  9,  7,  8, 12, 10, 11], dtype=int32),\n",
              "  'split0_test_score': array([-0.23498739, -0.23507571, -0.23517858, -0.23555074, -0.23482601,\n",
              "         -0.23531289, -0.23629719, -0.23586145, -0.23702088, -0.24056816,\n",
              "         -0.23826451, -0.24022572]),\n",
              "  'split1_test_score': array([-0.23465744, -0.23485694, -0.23480841, -0.23561015, -0.23492347,\n",
              "         -0.2354343 , -0.23800158, -0.23688139, -0.23667805, -0.24050225,\n",
              "         -0.2398967 , -0.23924733]),\n",
              "  'split2_test_score': array([-0.24933236, -0.24916611, -0.2489518 , -0.24921012, -0.24915194,\n",
              "         -0.24909416, -0.25100084, -0.251159  , -0.25086141, -0.2535898 ,\n",
              "         -0.2521795 , -0.25384696]),\n",
              "  'split3_test_score': array([-0.23806097, -0.2379437 , -0.23792587, -0.23954229, -0.23874301,\n",
              "         -0.23857609, -0.24114512, -0.24073173, -0.24100256, -0.24307312,\n",
              "         -0.24288866, -0.2419163 ]),\n",
              "  'split4_test_score': array([-0.26013448, -0.2602695 , -0.26025971, -0.26147552, -0.26114592,\n",
              "         -0.26115386, -0.26440205, -0.26354476, -0.26456047, -0.26711031,\n",
              "         -0.26620789, -0.26719431]),\n",
              "  'std_fit_time': array([0.15328033, 0.15610288, 0.21974739, 0.31573119, 0.18110905,\n",
              "         0.24899415, 0.03742851, 0.24370804, 0.30939562, 0.18531283,\n",
              "         0.32076181, 1.21643934]),\n",
              "  'std_score_time': array([0.02119623, 0.02359886, 0.04312607, 0.01981185, 0.05213046,\n",
              "         0.03417398, 0.01244913, 0.02091277, 0.04586888, 0.05714419,\n",
              "         0.04153606, 0.0236471 ]),\n",
              "  'std_test_score': array([0.00990898, 0.00989806, 0.00986349, 0.00993785, 0.01014311,\n",
              "         0.00998423, 0.01044212, 0.01046388, 0.01058885, 0.01027113,\n",
              "         0.01034892, 0.01072835])},\n",
              " {'max_depth': 3, 'min_child_weight': 5},\n",
              " -0.24342487409061708)"
            ]
          },
          "metadata": {
            "tags": []
          },
          "execution_count": 94
        }
      ]
    },
    {
      "cell_type": "code",
      "metadata": {
        "id": "BT0Qwj6Sckbb",
        "colab_type": "code",
        "colab": {
          "base_uri": "https://localhost:8080/",
          "height": 765
        },
        "outputId": "63d30f90-a93d-4dba-d852-f58c950d79dc"
      },
      "source": [
        "param_test2 = {\n",
        " 'max_depth':[2,3,4],\n",
        " 'min_child_weight':[4,5,6]\n",
        "}\n",
        "gsearch2 = GridSearchCV(estimator = xgb.XGBRegressor( learning_rate=0.1, n_estimators=37, max_depth=5,\n",
        " min_child_weight=2, gamma=0, subsample=0.8, colsample_bytree=0.8,\n",
        " objective= 'reg:squarederror', nthread=4, scale_pos_weight=1,seed=27), \n",
        " param_grid = param_test2, scoring='neg_mean_squared_error',n_jobs=4,iid=False, cv=5)\n",
        "gsearch2.fit(df[predictors],df[target])\n",
        "gsearch2.cv_results_, gsearch2.best_params_, gsearch2.best_score_"
      ],
      "execution_count": 95,
      "outputs": [
        {
          "output_type": "execute_result",
          "data": {
            "text/plain": [
              "({'mean_fit_time': array([1.98094831, 1.92906275, 1.95407057, 2.52189989, 2.55506668,\n",
              "         2.506358  , 3.24851298, 3.22374778, 2.85252204]),\n",
              "  'mean_score_time': array([0.07570796, 0.05326529, 0.06831536, 0.06211381, 0.07280202,\n",
              "         0.0741075 , 0.06441369, 0.08370719, 0.04054999]),\n",
              "  'mean_test_score': array([-0.24413077, -0.24410623, -0.24411893, -0.24347795, -0.24342487,\n",
              "         -0.24336446, -0.24344515, -0.24358253, -0.24348063]),\n",
              "  'param_max_depth': masked_array(data=[2, 2, 2, 3, 3, 3, 4, 4, 4],\n",
              "               mask=[False, False, False, False, False, False, False, False,\n",
              "                     False],\n",
              "         fill_value='?',\n",
              "              dtype=object),\n",
              "  'param_min_child_weight': masked_array(data=[4, 5, 6, 4, 5, 6, 4, 5, 6],\n",
              "               mask=[False, False, False, False, False, False, False, False,\n",
              "                     False],\n",
              "         fill_value='?',\n",
              "              dtype=object),\n",
              "  'params': [{'max_depth': 2, 'min_child_weight': 4},\n",
              "   {'max_depth': 2, 'min_child_weight': 5},\n",
              "   {'max_depth': 2, 'min_child_weight': 6},\n",
              "   {'max_depth': 3, 'min_child_weight': 4},\n",
              "   {'max_depth': 3, 'min_child_weight': 5},\n",
              "   {'max_depth': 3, 'min_child_weight': 6},\n",
              "   {'max_depth': 4, 'min_child_weight': 4},\n",
              "   {'max_depth': 4, 'min_child_weight': 5},\n",
              "   {'max_depth': 4, 'min_child_weight': 6}],\n",
              "  'rank_test_score': array([9, 7, 8, 4, 2, 1, 3, 6, 5], dtype=int32),\n",
              "  'split0_test_score': array([-0.23591333, -0.23591333, -0.23594386, -0.23515034, -0.23517858,\n",
              "         -0.23503657, -0.23492637, -0.23475756, -0.23443594]),\n",
              "  'split1_test_score': array([-0.23551647, -0.23552537, -0.23570159, -0.23481762, -0.23480841,\n",
              "         -0.23463003, -0.23445741, -0.234754  , -0.23465597]),\n",
              "  'split2_test_score': array([-0.24973177, -0.24964189, -0.24951507, -0.24919017, -0.2489518 ,\n",
              "         -0.24899783, -0.24888241, -0.24897056, -0.24901656]),\n",
              "  'split3_test_score': array([-0.23851131, -0.23845439, -0.23845836, -0.23804667, -0.23792587,\n",
              "         -0.23792519, -0.23855765, -0.23868784, -0.23854874]),\n",
              "  'split4_test_score': array([-0.26098098, -0.26099616, -0.26097577, -0.26018492, -0.26025971,\n",
              "         -0.26023269, -0.26040192, -0.2607427 , -0.26074597]),\n",
              "  'std_fit_time': array([0.09798086, 0.14675178, 0.13700654, 0.21330858, 0.06173111,\n",
              "         0.21836728, 0.21065828, 0.28292679, 0.39155921]),\n",
              "  'std_score_time': array([0.0295439 , 0.01646639, 0.02837895, 0.01447514, 0.02102155,\n",
              "         0.03400971, 0.04907083, 0.03897641, 0.01891116]),\n",
              "  'std_test_score': array([0.00988546, 0.00988546, 0.0098285 , 0.00985496, 0.00986349,\n",
              "         0.00991465, 0.00994317, 0.01003278, 0.01012663])},\n",
              " {'max_depth': 3, 'min_child_weight': 6},\n",
              " -0.2433644622511933)"
            ]
          },
          "metadata": {
            "tags": []
          },
          "execution_count": 95
        }
      ]
    },
    {
      "cell_type": "code",
      "metadata": {
        "id": "z1WM0xPUdIJU",
        "colab_type": "code",
        "colab": {
          "base_uri": "https://localhost:8080/",
          "height": 408
        },
        "outputId": "e998f93c-9ba0-49a4-9dfe-00cae81b9785"
      },
      "source": [
        "param_test3 = {\n",
        " 'gamma':[i/10.0 for i in range(0,5)]\n",
        "}\n",
        "gsearch3 = GridSearchCV(estimator = xgb.XGBRegressor( learning_rate =0.1, n_estimators=37, max_depth=4,\n",
        " min_child_weight=5, gamma=0, subsample=0.8, colsample_bytree=0.8,\n",
        " objective= 'reg:squarederror', nthread=4, scale_pos_weight=1,seed=27), \n",
        " param_grid = param_test3, scoring='neg_mean_squared_error',n_jobs=4,iid=False, cv=5)\n",
        "gsearch3.fit(df[predictors],df[target])\n",
        "gsearch3.cv_results_, gsearch3.best_params_, gsearch3.best_score_"
      ],
      "execution_count": 96,
      "outputs": [
        {
          "output_type": "execute_result",
          "data": {
            "text/plain": [
              "({'mean_fit_time': array([3.22879109, 3.30446968, 3.24232407, 3.25698776, 2.82403307]),\n",
              "  'mean_score_time': array([0.05225315, 0.09338574, 0.08568892, 0.06358714, 0.05275345]),\n",
              "  'mean_test_score': array([-0.24358253, -0.24358342, -0.24356638, -0.24356649, -0.24353358]),\n",
              "  'param_gamma': masked_array(data=[0.0, 0.1, 0.2, 0.3, 0.4],\n",
              "               mask=[False, False, False, False, False],\n",
              "         fill_value='?',\n",
              "              dtype=object),\n",
              "  'params': [{'gamma': 0.0},\n",
              "   {'gamma': 0.1},\n",
              "   {'gamma': 0.2},\n",
              "   {'gamma': 0.3},\n",
              "   {'gamma': 0.4}],\n",
              "  'rank_test_score': array([4, 5, 2, 3, 1], dtype=int32),\n",
              "  'split0_test_score': array([-0.23475756, -0.23475756, -0.23463098, -0.23462183, -0.23461444]),\n",
              "  'split1_test_score': array([-0.234754  , -0.23474682, -0.23474687, -0.23475437, -0.23484628]),\n",
              "  'split2_test_score': array([-0.24897056, -0.24897056, -0.24898563, -0.24898563, -0.24898563]),\n",
              "  'split3_test_score': array([-0.23868784, -0.23869945, -0.23870027, -0.23869785, -0.23848239]),\n",
              "  'split4_test_score': array([-0.2607427 , -0.2607427 , -0.26076816, -0.26077274, -0.26073918]),\n",
              "  'std_fit_time': array([0.08317802, 0.17016805, 0.15389349, 0.20271064, 0.79032973]),\n",
              "  'std_score_time': array([0.01282526, 0.0265884 , 0.04499734, 0.01259771, 0.03971989]),\n",
              "  'std_test_score': array([0.01003278, 0.01003291, 0.01006552, 0.01006763, 0.01006272])},\n",
              " {'gamma': 0.4},\n",
              " -0.24353358340722447)"
            ]
          },
          "metadata": {
            "tags": []
          },
          "execution_count": 96
        }
      ]
    },
    {
      "cell_type": "code",
      "metadata": {
        "id": "tSjYVHI8dWP_",
        "colab_type": "code",
        "colab": {
          "base_uri": "https://localhost:8080/",
          "height": 85
        },
        "outputId": "fbdc595d-f50c-4071-899b-d666a9424ce7"
      },
      "source": [
        "xgb2 = xgb.XGBRegressor(\n",
        " learning_rate =0.1,\n",
        " n_estimators=1000,\n",
        " max_depth=4,\n",
        " min_child_weight=5,\n",
        " gamma=0,\n",
        " subsample=0.8,\n",
        " colsample_bytree=0.8,\n",
        " objective= 'reg:squarederror',\n",
        " nthread=4,\n",
        " scale_pos_weight=1,\n",
        " seed=27)\n",
        "modelfit(xgb2, df, predictors)"
      ],
      "execution_count": 97,
      "outputs": [
        {
          "output_type": "stream",
          "text": [
            "\n",
            "Model Report\n",
            "Mean Squared Error : 0.2355\n",
            "R^2 Score (Train): 0.083437\n"
          ],
          "name": "stdout"
        }
      ]
    },
    {
      "cell_type": "code",
      "metadata": {
        "id": "ijIIs2P3dcp8",
        "colab_type": "code",
        "colab": {
          "base_uri": "https://localhost:8080/",
          "height": 34
        },
        "outputId": "675f5bcf-1d34-408f-e5c8-ed8905d2cd1f"
      },
      "source": [
        "xgb2.n_estimators"
      ],
      "execution_count": 98,
      "outputs": [
        {
          "output_type": "execute_result",
          "data": {
            "text/plain": [
              "38"
            ]
          },
          "metadata": {
            "tags": []
          },
          "execution_count": 98
        }
      ]
    },
    {
      "cell_type": "code",
      "metadata": {
        "id": "6zLw5fHHdg3a",
        "colab_type": "code",
        "colab": {
          "base_uri": "https://localhost:8080/",
          "height": 1000
        },
        "outputId": "8cef2fbb-d734-4d06-d491-d936e226e48d"
      },
      "source": [
        "param_test4 = {\n",
        " 'subsample':[i/10.0 for i in range(6,10)],\n",
        " 'colsample_bytree':[i/10.0 for i in range(6,10)]\n",
        "}\n",
        "gsearch4 = GridSearchCV(estimator = xgb.XGBRegressor( learning_rate =0.1, n_estimators=42, max_depth=4,\n",
        " min_child_weight=5, gamma=0, subsample=0.8, colsample_bytree=0.8,\n",
        " objective= 'reg:linear', nthread=4, scale_pos_weight=1,seed=27), \n",
        " param_grid = param_test4, scoring='neg_mean_squared_error',n_jobs=4,iid=False, cv=5)\n",
        "gsearch4.fit(df[predictors],df[target])\n",
        "gsearch4.cv_results_, gsearch4.best_params_, gsearch4.best_score_"
      ],
      "execution_count": 99,
      "outputs": [
        {
          "output_type": "stream",
          "text": [
            "[23:30:35] WARNING: /workspace/src/objective/regression_obj.cu:152: reg:linear is now deprecated in favor of reg:squarederror.\n"
          ],
          "name": "stdout"
        },
        {
          "output_type": "execute_result",
          "data": {
            "text/plain": [
              "({'mean_fit_time': array([3.2005343 , 3.05971503, 3.13870964, 2.9225112 , 3.57178411,\n",
              "         3.38056293, 3.37001042, 3.14131613, 3.86347713, 3.60053463,\n",
              "         3.62304354, 3.52047248, 4.08635864, 3.94608831, 3.87394137,\n",
              "         3.49660001]),\n",
              "  'mean_score_time': array([0.06637807, 0.09273434, 0.07517848, 0.06160097, 0.07479324,\n",
              "         0.06723452, 0.06898451, 0.08476105, 0.09798474, 0.10137863,\n",
              "         0.06739511, 0.0681004 , 0.10615005, 0.10239058, 0.049822  ,\n",
              "         0.04337864]),\n",
              "  'mean_test_score': array([-0.24385901, -0.24384116, -0.24390652, -0.24361086, -0.24365345,\n",
              "         -0.24371057, -0.24347853, -0.24343405, -0.24384353, -0.2437186 ,\n",
              "         -0.24343797, -0.24345505, -0.24382635, -0.24356852, -0.24324573,\n",
              "         -0.24336599]),\n",
              "  'param_colsample_bytree': masked_array(data=[0.6, 0.6, 0.6, 0.6, 0.7, 0.7, 0.7, 0.7, 0.8, 0.8, 0.8,\n",
              "                     0.8, 0.9, 0.9, 0.9, 0.9],\n",
              "               mask=[False, False, False, False, False, False, False, False,\n",
              "                     False, False, False, False, False, False, False, False],\n",
              "         fill_value='?',\n",
              "              dtype=object),\n",
              "  'param_subsample': masked_array(data=[0.6, 0.7, 0.8, 0.9, 0.6, 0.7, 0.8, 0.9, 0.6, 0.7, 0.8,\n",
              "                     0.9, 0.6, 0.7, 0.8, 0.9],\n",
              "               mask=[False, False, False, False, False, False, False, False,\n",
              "                     False, False, False, False, False, False, False, False],\n",
              "         fill_value='?',\n",
              "              dtype=object),\n",
              "  'params': [{'colsample_bytree': 0.6, 'subsample': 0.6},\n",
              "   {'colsample_bytree': 0.6, 'subsample': 0.7},\n",
              "   {'colsample_bytree': 0.6, 'subsample': 0.8},\n",
              "   {'colsample_bytree': 0.6, 'subsample': 0.9},\n",
              "   {'colsample_bytree': 0.7, 'subsample': 0.6},\n",
              "   {'colsample_bytree': 0.7, 'subsample': 0.7},\n",
              "   {'colsample_bytree': 0.7, 'subsample': 0.8},\n",
              "   {'colsample_bytree': 0.7, 'subsample': 0.9},\n",
              "   {'colsample_bytree': 0.8, 'subsample': 0.6},\n",
              "   {'colsample_bytree': 0.8, 'subsample': 0.7},\n",
              "   {'colsample_bytree': 0.8, 'subsample': 0.8},\n",
              "   {'colsample_bytree': 0.8, 'subsample': 0.9},\n",
              "   {'colsample_bytree': 0.9, 'subsample': 0.6},\n",
              "   {'colsample_bytree': 0.9, 'subsample': 0.7},\n",
              "   {'colsample_bytree': 0.9, 'subsample': 0.8},\n",
              "   {'colsample_bytree': 0.9, 'subsample': 0.9}],\n",
              "  'rank_test_score': array([15, 13, 16,  8,  9, 10,  6,  3, 14, 11,  4,  5, 12,  7,  1,  2],\n",
              "        dtype=int32),\n",
              "  'split0_test_score': array([-0.2358066 , -0.23554253, -0.23507353, -0.23457434, -0.2350925 ,\n",
              "         -0.23495796, -0.23469586, -0.23482238, -0.23527732, -0.23479315,\n",
              "         -0.23449571, -0.23484422, -0.23525475, -0.23468563, -0.23419489,\n",
              "         -0.2346329 ]),\n",
              "  'split1_test_score': array([-0.23552457, -0.23506848, -0.23519669, -0.23545492, -0.23526928,\n",
              "         -0.23539814, -0.23487907, -0.23453218, -0.23574542, -0.23554851,\n",
              "         -0.2347679 , -0.23471608, -0.23555354, -0.23498164, -0.23499677,\n",
              "         -0.23486086]),\n",
              "  'split2_test_score': array([-0.24927542, -0.24931831, -0.24953838, -0.24939851, -0.25006459,\n",
              "         -0.24895906, -0.24900536, -0.24907645, -0.25015029, -0.24922826,\n",
              "         -0.24884801, -0.24882585, -0.24917706, -0.24923326, -0.24899839,\n",
              "         -0.24915691]),\n",
              "  'split3_test_score': array([-0.23882267, -0.23843611, -0.23897239, -0.23829447, -0.23831627,\n",
              "         -0.23857291, -0.23873482, -0.23815444, -0.2383876 , -0.23823123,\n",
              "         -0.23870103, -0.23807291, -0.23844767, -0.23849045, -0.23792747,\n",
              "         -0.23789992]),\n",
              "  'split4_test_score': array([-0.25986577, -0.26084038, -0.2607516 , -0.26033204, -0.25952463,\n",
              "         -0.2606648 , -0.26007751, -0.26058481, -0.25965703, -0.26079187,\n",
              "         -0.26037719, -0.26081618, -0.26069875, -0.26045163, -0.26011113,\n",
              "         -0.26027938]),\n",
              "  'std_fit_time': array([0.33862309, 0.24883812, 0.22575569, 0.11605791, 0.2462896 ,\n",
              "         0.16202942, 0.27504811, 0.29756432, 0.21012133, 0.09259558,\n",
              "         0.1511102 , 0.24468763, 0.27559666, 0.22698644, 0.29144456,\n",
              "         0.46912396]),\n",
              "  'std_score_time': array([0.02866399, 0.04408166, 0.03431618, 0.00729012, 0.03273641,\n",
              "         0.03310887, 0.02584997, 0.03992058, 0.04186491, 0.03382949,\n",
              "         0.01431264, 0.03488752, 0.03687799, 0.03267167, 0.00913071,\n",
              "         0.02760328]),\n",
              "  'std_test_score': array([0.00943634, 0.00993996, 0.00993683, 0.00989482, 0.00964434,\n",
              "         0.00987008, 0.0097945 , 0.01007238, 0.00957673, 0.00998377,\n",
              "         0.00993759, 0.01009691, 0.00984022, 0.00995546, 0.00995773,\n",
              "         0.00998077])},\n",
              " {'colsample_bytree': 0.9, 'subsample': 0.8},\n",
              " -0.24324572967351682)"
            ]
          },
          "metadata": {
            "tags": []
          },
          "execution_count": 99
        }
      ]
    },
    {
      "cell_type": "code",
      "metadata": {
        "id": "WNlVhRgPhk1x",
        "colab_type": "code",
        "colab": {
          "base_uri": "https://localhost:8080/",
          "height": 782
        },
        "outputId": "677fe7dc-0d02-4351-b26d-1df63a69a238"
      },
      "source": [
        "param_test5 = {\n",
        " 'subsample':[i/100.0 for i in range(75,90,5)],\n",
        " 'colsample_bytree':[i/100.0 for i in range(55,70,5)]\n",
        "}\n",
        "gsearch5 = GridSearchCV(estimator = xgb.XGBRegressor( learning_rate =0.1, n_estimators=42, max_depth=4,\n",
        " min_child_weight=5, gamma=0, subsample=0.8, colsample_bytree=0.6,\n",
        " objective= 'reg:linear', nthread=4, scale_pos_weight=1,seed=27), \n",
        " param_grid = param_test5, scoring='neg_mean_squared_error',n_jobs=4,iid=False, cv=5)\n",
        "gsearch5.fit(df[predictors],df[target])\n",
        "gsearch5.cv_results_, gsearch5.best_params_, gsearch5.best_score_"
      ],
      "execution_count": 100,
      "outputs": [
        {
          "output_type": "stream",
          "text": [
            "[23:31:12] WARNING: /workspace/src/objective/regression_obj.cu:152: reg:linear is now deprecated in favor of reg:squarederror.\n"
          ],
          "name": "stdout"
        },
        {
          "output_type": "execute_result",
          "data": {
            "text/plain": [
              "({'mean_fit_time': array([2.91145415, 2.95630641, 2.92379913, 3.01984921, 3.06974931,\n",
              "         2.98313732, 3.13539042, 3.18920388, 2.8714756 ]),\n",
              "  'mean_score_time': array([0.07345133, 0.06244316, 0.07935209, 0.04642758, 0.0760745 ,\n",
              "         0.06427722, 0.11284614, 0.08503208, 0.0577014 ]),\n",
              "  'mean_test_score': array([-0.24388982, -0.24361672, -0.24352048, -0.24392883, -0.24390652,\n",
              "         -0.24365451, -0.24371344, -0.24382342, -0.24367064]),\n",
              "  'param_colsample_bytree': masked_array(data=[0.55, 0.55, 0.55, 0.6, 0.6, 0.6, 0.65, 0.65, 0.65],\n",
              "               mask=[False, False, False, False, False, False, False, False,\n",
              "                     False],\n",
              "         fill_value='?',\n",
              "              dtype=object),\n",
              "  'param_subsample': masked_array(data=[0.75, 0.8, 0.85, 0.75, 0.8, 0.85, 0.75, 0.8, 0.85],\n",
              "               mask=[False, False, False, False, False, False, False, False,\n",
              "                     False],\n",
              "         fill_value='?',\n",
              "              dtype=object),\n",
              "  'params': [{'colsample_bytree': 0.55, 'subsample': 0.75},\n",
              "   {'colsample_bytree': 0.55, 'subsample': 0.8},\n",
              "   {'colsample_bytree': 0.55, 'subsample': 0.85},\n",
              "   {'colsample_bytree': 0.6, 'subsample': 0.75},\n",
              "   {'colsample_bytree': 0.6, 'subsample': 0.8},\n",
              "   {'colsample_bytree': 0.6, 'subsample': 0.85},\n",
              "   {'colsample_bytree': 0.65, 'subsample': 0.75},\n",
              "   {'colsample_bytree': 0.65, 'subsample': 0.8},\n",
              "   {'colsample_bytree': 0.65, 'subsample': 0.85}],\n",
              "  'rank_test_score': array([7, 2, 1, 9, 8, 3, 5, 6, 4], dtype=int32),\n",
              "  'split0_test_score': array([-0.23459472, -0.23453486, -0.23441113, -0.23468117, -0.23507353,\n",
              "         -0.23490897, -0.23464856, -0.23521971, -0.23499957]),\n",
              "  'split1_test_score': array([-0.23553856, -0.23535147, -0.23522537, -0.23497462, -0.23519669,\n",
              "         -0.23486514, -0.23521692, -0.23495077, -0.23455943]),\n",
              "  'split2_test_score': array([-0.24979923, -0.24890925, -0.24913129, -0.25021579, -0.24953838,\n",
              "         -0.24925586, -0.24956781, -0.24911217, -0.2496287 ]),\n",
              "  'split3_test_score': array([-0.23857824, -0.23829389, -0.23827012, -0.23874712, -0.23897239,\n",
              "         -0.2385564 , -0.238675  , -0.23901153, -0.23861219]),\n",
              "  'split4_test_score': array([-0.26093836, -0.26099415, -0.2605645 , -0.26102546, -0.2607516 ,\n",
              "         -0.26068618, -0.26045893, -0.26082289, -0.26055329]),\n",
              "  'std_fit_time': array([0.12257706, 0.08133376, 0.05419887, 0.15039281, 0.10526444,\n",
              "         0.10351191, 0.23152744, 0.30276956, 0.62691925]),\n",
              "  'std_score_time': array([0.04606985, 0.02604305, 0.02852415, 0.00655269, 0.03226466,\n",
              "         0.0229461 , 0.03793871, 0.03006059, 0.03688635]),\n",
              "  'std_test_score': array([0.0100988 , 0.01009072, 0.01001334, 0.01024078, 0.00993683,\n",
              "         0.0100118 , 0.00994418, 0.00992829, 0.01004303])},\n",
              " {'colsample_bytree': 0.55, 'subsample': 0.85},\n",
              " -0.24352048146166833)"
            ]
          },
          "metadata": {
            "tags": []
          },
          "execution_count": 100
        }
      ]
    },
    {
      "cell_type": "code",
      "metadata": {
        "id": "rEUY844dh2a7",
        "colab_type": "code",
        "colab": {
          "base_uri": "https://localhost:8080/",
          "height": 1000
        },
        "outputId": "55e3c729-8fc3-461e-b7d6-b1b27b0cdee2"
      },
      "source": [
        "param_test6 = {\n",
        "    'reg_alpha':[0.5, 1, 5, 10, 50],\n",
        "    'reg_lambda':[5e-4, 1e-3, 5e-3]\n",
        "}\n",
        "gsearch6 = GridSearchCV(estimator = xgb.XGBRegressor( learning_rate =0.1, n_estimators=42, max_depth=4,\n",
        " min_child_weight=5, gamma=0, subsample=0.8, colsample_bytree=0.6,\n",
        " objective= 'reg:linear', nthread=4, scale_pos_weight=1,seed=27), \n",
        " param_grid = param_test6, scoring='neg_mean_squared_error',n_jobs=4,iid=False, cv=5)\n",
        "gsearch6.fit(df[predictors],df[target])\n",
        "gsearch6.cv_results_, gsearch6.best_params_, gsearch6.best_score_"
      ],
      "execution_count": 101,
      "outputs": [
        {
          "output_type": "stream",
          "text": [
            "[23:32:10] WARNING: /workspace/src/objective/regression_obj.cu:152: reg:linear is now deprecated in favor of reg:squarederror.\n"
          ],
          "name": "stdout"
        },
        {
          "output_type": "execute_result",
          "data": {
            "text/plain": [
              "({'mean_fit_time': array([3.01397681, 3.09245729, 2.93325081, 3.1157423 , 2.9443337 ,\n",
              "         3.06270175, 2.94500661, 2.91903563, 3.02433391, 2.94435921,\n",
              "         2.87936926, 2.82138395, 2.69989085, 2.83095298, 2.36867404]),\n",
              "  'mean_score_time': array([0.05712876, 0.09000707, 0.09987369, 0.07333035, 0.10150943,\n",
              "         0.05959897, 0.05727315, 0.06729631, 0.09163504, 0.05532131,\n",
              "         0.07487774, 0.05615697, 0.11065378, 0.05432391, 0.04031253]),\n",
              "  'mean_test_score': array([-0.24377289, -0.24377286, -0.24377264, -0.24355618, -0.24355617,\n",
              "         -0.24355605, -0.24353856, -0.24353856, -0.24353857, -0.24360617,\n",
              "         -0.24360617, -0.24360618, -0.2449308 , -0.2449308 , -0.24493081]),\n",
              "  'param_reg_alpha': masked_array(data=[0.5, 0.5, 0.5, 1, 1, 1, 5, 5, 5, 10, 10, 10, 50, 50,\n",
              "                     50],\n",
              "               mask=[False, False, False, False, False, False, False, False,\n",
              "                     False, False, False, False, False, False, False],\n",
              "         fill_value='?',\n",
              "              dtype=object),\n",
              "  'param_reg_lambda': masked_array(data=[0.0005, 0.001, 0.005, 0.0005, 0.001, 0.005, 0.0005,\n",
              "                     0.001, 0.005, 0.0005, 0.001, 0.005, 0.0005, 0.001,\n",
              "                     0.005],\n",
              "               mask=[False, False, False, False, False, False, False, False,\n",
              "                     False, False, False, False, False, False, False],\n",
              "         fill_value='?',\n",
              "              dtype=object),\n",
              "  'params': [{'reg_alpha': 0.5, 'reg_lambda': 0.0005},\n",
              "   {'reg_alpha': 0.5, 'reg_lambda': 0.001},\n",
              "   {'reg_alpha': 0.5, 'reg_lambda': 0.005},\n",
              "   {'reg_alpha': 1, 'reg_lambda': 0.0005},\n",
              "   {'reg_alpha': 1, 'reg_lambda': 0.001},\n",
              "   {'reg_alpha': 1, 'reg_lambda': 0.005},\n",
              "   {'reg_alpha': 5, 'reg_lambda': 0.0005},\n",
              "   {'reg_alpha': 5, 'reg_lambda': 0.001},\n",
              "   {'reg_alpha': 5, 'reg_lambda': 0.005},\n",
              "   {'reg_alpha': 10, 'reg_lambda': 0.0005},\n",
              "   {'reg_alpha': 10, 'reg_lambda': 0.001},\n",
              "   {'reg_alpha': 10, 'reg_lambda': 0.005},\n",
              "   {'reg_alpha': 50, 'reg_lambda': 0.0005},\n",
              "   {'reg_alpha': 50, 'reg_lambda': 0.001},\n",
              "   {'reg_alpha': 50, 'reg_lambda': 0.005}],\n",
              "  'rank_test_score': array([12, 11, 10,  6,  5,  4,  1,  2,  3,  7,  8,  9, 13, 14, 15],\n",
              "        dtype=int32),\n",
              "  'split0_test_score': array([-0.23464262, -0.23464259, -0.23464233, -0.23493185, -0.23493181,\n",
              "         -0.23493147, -0.23465656, -0.23465656, -0.23465658, -0.23462223,\n",
              "         -0.23462223, -0.23462224, -0.2364315 , -0.2364315 , -0.2364315 ]),\n",
              "  'split1_test_score': array([-0.23544972, -0.23544971, -0.23544955, -0.2352504 , -0.23525039,\n",
              "         -0.2352503 , -0.23538828, -0.23538828, -0.23538828, -0.23546275,\n",
              "         -0.23546275, -0.23546276, -0.2366023 , -0.2366023 , -0.2366023 ]),\n",
              "  'split2_test_score': array([-0.24897859, -0.24897856, -0.24897825, -0.24870551, -0.24870549,\n",
              "         -0.2487053 , -0.24891403, -0.24891402, -0.24891403, -0.24941218,\n",
              "         -0.24941218, -0.24941218, -0.25062884, -0.25062884, -0.25062884]),\n",
              "  'split3_test_score': array([-0.23888695, -0.23888692, -0.23888674, -0.23854661, -0.23854659,\n",
              "         -0.23854644, -0.2383214 , -0.2383214 , -0.23832139, -0.23816275,\n",
              "         -0.23816275, -0.23816275, -0.23898948, -0.23898948, -0.23898948]),\n",
              "  'split4_test_score': array([-0.26090654, -0.26090652, -0.26090632, -0.26034655, -0.26034657,\n",
              "         -0.26034672, -0.26041256, -0.26041256, -0.26041257, -0.26037093,\n",
              "         -0.26037094, -0.26037095, -0.26200189, -0.2620019 , -0.2620019 ]),\n",
              "  'std_fit_time': array([0.13147524, 0.09075507, 0.10614332, 0.19178802, 0.31772088,\n",
              "         0.17448044, 0.05496083, 0.24366934, 0.29510903, 0.21561562,\n",
              "         0.09828349, 0.15462107, 0.27487104, 0.16861544, 0.38728906]),\n",
              "  'std_score_time': array([0.01009921, 0.02757401, 0.03814531, 0.02544809, 0.03420427,\n",
              "         0.02940255, 0.01504545, 0.03220135, 0.02432349, 0.02320844,\n",
              "         0.03545495, 0.02655558, 0.03933058, 0.01890167, 0.0200423 ]),\n",
              "  'std_test_score': array([0.00997167, 0.00997167, 0.00997166, 0.0097662 , 0.00976621,\n",
              "         0.00976634, 0.00986066, 0.00986066, 0.00986066, 0.00991387,\n",
              "         0.00991387, 0.00991387, 0.01000791, 0.01000791, 0.01000791])},\n",
              " {'reg_alpha': 5, 'reg_lambda': 0.0005},\n",
              " -0.2435385638648074)"
            ]
          },
          "metadata": {
            "tags": []
          },
          "execution_count": 101
        }
      ]
    },
    {
      "cell_type": "code",
      "metadata": {
        "id": "CIky2zn9iSSc",
        "colab_type": "code",
        "colab": {
          "base_uri": "https://localhost:8080/",
          "height": 187
        },
        "outputId": "7e8e056d-db1b-4948-87fb-28f9fd1955a7"
      },
      "source": [
        "xgb3 = xgb.XGBRegressor(\n",
        " learning_rate =0.1,\n",
        " n_estimators=1000,\n",
        " max_depth=4,\n",
        " min_child_weight=5,\n",
        " gamma=0,\n",
        " subsample=0.8,\n",
        " colsample_bytree=0.6,\n",
        " reg_alpha=1,\n",
        " reg_lambda=0.001,   \n",
        " objective= 'reg:linear',\n",
        " nthread=4,\n",
        " scale_pos_weight=1,\n",
        " seed=27)\n",
        "modelfit(xgb3, df, predictors)"
      ],
      "execution_count": 102,
      "outputs": [
        {
          "output_type": "stream",
          "text": [
            "[23:32:11] WARNING: /workspace/src/objective/regression_obj.cu:152: reg:linear is now deprecated in favor of reg:squarederror.\n",
            "[23:32:11] WARNING: /workspace/src/objective/regression_obj.cu:152: reg:linear is now deprecated in favor of reg:squarederror.\n",
            "[23:32:11] WARNING: /workspace/src/objective/regression_obj.cu:152: reg:linear is now deprecated in favor of reg:squarederror.\n",
            "[23:32:11] WARNING: /workspace/src/objective/regression_obj.cu:152: reg:linear is now deprecated in favor of reg:squarederror.\n",
            "[23:32:11] WARNING: /workspace/src/objective/regression_obj.cu:152: reg:linear is now deprecated in favor of reg:squarederror.\n",
            "[23:32:21] WARNING: /workspace/src/objective/regression_obj.cu:152: reg:linear is now deprecated in favor of reg:squarederror.\n",
            "\n",
            "Model Report\n",
            "Mean Squared Error : 0.2355\n",
            "R^2 Score (Train): 0.083464\n"
          ],
          "name": "stdout"
        }
      ]
    },
    {
      "cell_type": "code",
      "metadata": {
        "id": "6HVj4jryiWhB",
        "colab_type": "code",
        "colab": {
          "base_uri": "https://localhost:8080/",
          "height": 85
        },
        "outputId": "91167ca1-1123-4415-e3f5-f20c8f8dd5c3"
      },
      "source": [
        "xgb4 = xgb.XGBRegressor(\n",
        " learning_rate =0.01,\n",
        " n_estimators=5000,\n",
        " max_depth=4,\n",
        " min_child_weight=5,\n",
        " gamma=0,\n",
        " subsample=0.8,\n",
        " colsample_bytree=0.6,\n",
        " reg_alpha=1,\n",
        " reg_lambda=0.001,  \n",
        " objective= 'reg:squarederror',\n",
        " nthread=4,\n",
        " scale_pos_weight=1,\n",
        " seed=27)\n",
        "modelfit(xgb4, df, predictors)"
      ],
      "execution_count": 103,
      "outputs": [
        {
          "output_type": "stream",
          "text": [
            "\n",
            "Model Report\n",
            "Mean Squared Error : 0.235\n",
            "R^2 Score (Train): 0.085235\n"
          ],
          "name": "stdout"
        }
      ]
    },
    {
      "cell_type": "code",
      "metadata": {
        "id": "i-ZlBf6fisWz",
        "colab_type": "code",
        "colab": {
          "base_uri": "https://localhost:8080/",
          "height": 34
        },
        "outputId": "f55d8815-8da1-4901-c6cd-abd58da390af"
      },
      "source": [
        "print(np.sqrt(metrics.mean_squared_error(df['number_of_likes_over_mean'], xgb4.predict(df[predictors]))))"
      ],
      "execution_count": 104,
      "outputs": [
        {
          "output_type": "stream",
          "text": [
            "0.48477507579258294\n"
          ],
          "name": "stdout"
        }
      ]
    },
    {
      "cell_type": "code",
      "metadata": {
        "id": "4xuXeFdNituz",
        "colab_type": "code",
        "colab": {
          "base_uri": "https://localhost:8080/",
          "height": 204
        },
        "outputId": "42ca045b-653d-4c59-accf-ffa50d3ce936"
      },
      "source": [
        "compare = pd.DataFrame({'Prediction': xgb4.predict(df[predictors]), 'Actual' : df['number_of_likes_over_mean']})\n",
        "compare.head(5)"
      ],
      "execution_count": 105,
      "outputs": [
        {
          "output_type": "execute_result",
          "data": {
            "text/html": [
              "<div>\n",
              "<style scoped>\n",
              "    .dataframe tbody tr th:only-of-type {\n",
              "        vertical-align: middle;\n",
              "    }\n",
              "\n",
              "    .dataframe tbody tr th {\n",
              "        vertical-align: top;\n",
              "    }\n",
              "\n",
              "    .dataframe thead th {\n",
              "        text-align: right;\n",
              "    }\n",
              "</style>\n",
              "<table border=\"1\" class=\"dataframe\">\n",
              "  <thead>\n",
              "    <tr style=\"text-align: right;\">\n",
              "      <th></th>\n",
              "      <th>Prediction</th>\n",
              "      <th>Actual</th>\n",
              "    </tr>\n",
              "  </thead>\n",
              "  <tbody>\n",
              "    <tr>\n",
              "      <th>0</th>\n",
              "      <td>1.016946</td>\n",
              "      <td>0.697678</td>\n",
              "    </tr>\n",
              "    <tr>\n",
              "      <th>1</th>\n",
              "      <td>0.997318</td>\n",
              "      <td>1.132276</td>\n",
              "    </tr>\n",
              "    <tr>\n",
              "      <th>2</th>\n",
              "      <td>0.999351</td>\n",
              "      <td>0.641902</td>\n",
              "    </tr>\n",
              "    <tr>\n",
              "      <th>3</th>\n",
              "      <td>1.051713</td>\n",
              "      <td>1.072790</td>\n",
              "    </tr>\n",
              "    <tr>\n",
              "      <th>4</th>\n",
              "      <td>1.017791</td>\n",
              "      <td>1.059753</td>\n",
              "    </tr>\n",
              "  </tbody>\n",
              "</table>\n",
              "</div>"
            ],
            "text/plain": [
              "   Prediction    Actual\n",
              "0    1.016946  0.697678\n",
              "1    0.997318  1.132276\n",
              "2    0.999351  0.641902\n",
              "3    1.051713  1.072790\n",
              "4    1.017791  1.059753"
            ]
          },
          "metadata": {
            "tags": []
          },
          "execution_count": 105
        }
      ]
    },
    {
      "cell_type": "code",
      "metadata": {
        "id": "JQ0yuSGui5gR",
        "colab_type": "code",
        "colab": {}
      },
      "source": [
        "Small_difference = abs((df[\"number_of_likes_over_mean\"].values) - xgb4.predict(df[predictors]))  < 0.05\n",
        "med_difference = abs((df[\"number_of_likes_over_mean\"].values) - xgb4.predict(df[predictors]))  < 0.25\n",
        "Big_difference = abs((df[\"number_of_likes_over_mean\"].values) - xgb4.predict(df[predictors]))  > 0.5"
      ],
      "execution_count": 0,
      "outputs": []
    },
    {
      "cell_type": "code",
      "metadata": {
        "id": "SVLBSjkii-2F",
        "colab_type": "code",
        "colab": {
          "base_uri": "https://localhost:8080/",
          "height": 34
        },
        "outputId": "097e6fea-f3a4-4162-cde0-145cef477110"
      },
      "source": [
        "df[Small_difference].shape[0]"
      ],
      "execution_count": 107,
      "outputs": [
        {
          "output_type": "execute_result",
          "data": {
            "text/plain": [
              "2159"
            ]
          },
          "metadata": {
            "tags": []
          },
          "execution_count": 107
        }
      ]
    },
    {
      "cell_type": "code",
      "metadata": {
        "id": "uuhmEJ7tjBUf",
        "colab_type": "code",
        "colab": {
          "base_uri": "https://localhost:8080/",
          "height": 34
        },
        "outputId": "e7a5d854-c0bc-4cd9-9fa0-1e61ac8ab1ed"
      },
      "source": [
        "df[med_difference].shape[0]"
      ],
      "execution_count": 108,
      "outputs": [
        {
          "output_type": "execute_result",
          "data": {
            "text/plain": [
              "9888"
            ]
          },
          "metadata": {
            "tags": []
          },
          "execution_count": 108
        }
      ]
    },
    {
      "cell_type": "code",
      "metadata": {
        "id": "KjhhE-mZnub0",
        "colab_type": "code",
        "colab": {
          "base_uri": "https://localhost:8080/",
          "height": 34
        },
        "outputId": "37407a38-1e85-4653-cb05-603d3041bb98"
      },
      "source": [
        "df[Big_difference].shape[0]"
      ],
      "execution_count": 109,
      "outputs": [
        {
          "output_type": "execute_result",
          "data": {
            "text/plain": [
              "4516"
            ]
          },
          "metadata": {
            "tags": []
          },
          "execution_count": 109
        }
      ]
    },
    {
      "cell_type": "code",
      "metadata": {
        "id": "Pm4jRUgGjFr0",
        "colab_type": "code",
        "colab": {}
      },
      "source": [
        "idx_vals = df[Small_difference].index.values\n",
        "idx_big_vals = df[Big_difference].index.values\n",
        "compare1 = compare.iloc[idx_vals]\n",
        "compare2 = compare.iloc[idx_big_vals]"
      ],
      "execution_count": 0,
      "outputs": []
    },
    {
      "cell_type": "code",
      "metadata": {
        "id": "PbTFTRpdjRK-",
        "colab_type": "code",
        "colab": {
          "base_uri": "https://localhost:8080/",
          "height": 204
        },
        "outputId": "44107642-8a66-482f-83ad-02ce57b9698b"
      },
      "source": [
        "compare1.head(5)"
      ],
      "execution_count": 111,
      "outputs": [
        {
          "output_type": "execute_result",
          "data": {
            "text/html": [
              "<div>\n",
              "<style scoped>\n",
              "    .dataframe tbody tr th:only-of-type {\n",
              "        vertical-align: middle;\n",
              "    }\n",
              "\n",
              "    .dataframe tbody tr th {\n",
              "        vertical-align: top;\n",
              "    }\n",
              "\n",
              "    .dataframe thead th {\n",
              "        text-align: right;\n",
              "    }\n",
              "</style>\n",
              "<table border=\"1\" class=\"dataframe\">\n",
              "  <thead>\n",
              "    <tr style=\"text-align: right;\">\n",
              "      <th></th>\n",
              "      <th>Prediction</th>\n",
              "      <th>Actual</th>\n",
              "    </tr>\n",
              "  </thead>\n",
              "  <tbody>\n",
              "    <tr>\n",
              "      <th>3</th>\n",
              "      <td>1.051713</td>\n",
              "      <td>1.072790</td>\n",
              "    </tr>\n",
              "    <tr>\n",
              "      <th>4</th>\n",
              "      <td>1.017791</td>\n",
              "      <td>1.059753</td>\n",
              "    </tr>\n",
              "    <tr>\n",
              "      <th>8</th>\n",
              "      <td>1.021576</td>\n",
              "      <td>1.012914</td>\n",
              "    </tr>\n",
              "    <tr>\n",
              "      <th>9</th>\n",
              "      <td>1.031000</td>\n",
              "      <td>1.057489</td>\n",
              "    </tr>\n",
              "    <tr>\n",
              "      <th>14</th>\n",
              "      <td>1.065629</td>\n",
              "      <td>1.102865</td>\n",
              "    </tr>\n",
              "  </tbody>\n",
              "</table>\n",
              "</div>"
            ],
            "text/plain": [
              "    Prediction    Actual\n",
              "3     1.051713  1.072790\n",
              "4     1.017791  1.059753\n",
              "8     1.021576  1.012914\n",
              "9     1.031000  1.057489\n",
              "14    1.065629  1.102865"
            ]
          },
          "metadata": {
            "tags": []
          },
          "execution_count": 111
        }
      ]
    },
    {
      "cell_type": "code",
      "metadata": {
        "id": "Ah1sVOWLja-y",
        "colab_type": "code",
        "colab": {
          "base_uri": "https://localhost:8080/",
          "height": 295
        },
        "outputId": "436bfc6f-4186-4172-cf7f-bc63868b2897"
      },
      "source": [
        "from  matplotlib import pyplot \n",
        "pyplot.scatter(df[\"number_of_likes_over_mean\"].values, xgb4.predict(df[predictors]), color=\"grey\")\n",
        "z = np.polyfit(df[\"number_of_likes_over_mean\"].values, xgb4.predict(df[predictors]), 1)\n",
        "p = np.poly1d(z)\n",
        "pyplot.plot(df[\"number_of_likes_over_mean\"].values,p(df[\"number_of_likes_over_mean\"].values),\"r--\", color=\"m\")\n",
        "pyplot.title(\"Predicted Likes Over Mean vs True Likes Over Mean\")\n",
        "pyplot.xlabel(\"Actual Number of Likes Over Mean\")\n",
        "pyplot.ylabel(\"Predicted Number of Likes Over Mean\")\n",
        "pyplot.show()"
      ],
      "execution_count": 112,
      "outputs": [
        {
          "output_type": "display_data",
          "data": {
            "image/png": "[encoded data removed]",
            "text/plain": [
              "<Figure size 864x288 with 1 Axes>"
            ]
          },
          "metadata": {
            "tags": [],
            "needs_background": "light"
          }
        }
      ]
    }
  ]
}